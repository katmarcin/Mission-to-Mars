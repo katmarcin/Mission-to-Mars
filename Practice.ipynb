{
 "cells": [
  {
   "cell_type": "code",
   "execution_count": 1,
   "id": "333f0b81",
   "metadata": {},
   "outputs": [
    {
     "name": "stdout",
     "output_type": "stream",
     "text": [
      "Requirement already satisfied: splinter in /Users/katmarcin/opt/anaconda3/envs/PythonData/lib/python3.7/site-packages (0.17.0)\n",
      "Requirement already satisfied: webdriver-manager in /Users/katmarcin/opt/anaconda3/envs/PythonData/lib/python3.7/site-packages (3.5.2)\n",
      "Requirement already satisfied: configparser in /Users/katmarcin/opt/anaconda3/envs/PythonData/lib/python3.7/site-packages (from webdriver-manager) (5.2.0)\n",
      "Requirement already satisfied: crayons in /Users/katmarcin/opt/anaconda3/envs/PythonData/lib/python3.7/site-packages (from webdriver-manager) (0.4.0)\n",
      "Requirement already satisfied: requests in /Users/katmarcin/opt/anaconda3/envs/PythonData/lib/python3.7/site-packages (from webdriver-manager) (2.27.1)\n",
      "Requirement already satisfied: colorama in /Users/katmarcin/opt/anaconda3/envs/PythonData/lib/python3.7/site-packages (from crayons->webdriver-manager) (0.4.4)\n",
      "Requirement already satisfied: idna<4,>=2.5 in /Users/katmarcin/opt/anaconda3/envs/PythonData/lib/python3.7/site-packages (from requests->webdriver-manager) (3.3)\n",
      "Requirement already satisfied: charset-normalizer~=2.0.0 in /Users/katmarcin/opt/anaconda3/envs/PythonData/lib/python3.7/site-packages (from requests->webdriver-manager) (2.0.4)\n",
      "Requirement already satisfied: certifi>=2017.4.17 in /Users/katmarcin/opt/anaconda3/envs/PythonData/lib/python3.7/site-packages (from requests->webdriver-manager) (2021.10.8)\n",
      "Requirement already satisfied: urllib3<1.27,>=1.21.1 in /Users/katmarcin/opt/anaconda3/envs/PythonData/lib/python3.7/site-packages (from requests->webdriver-manager) (1.26.7)\n"
     ]
    }
   ],
   "source": [
    "!pip install splinter webdriver-manager"
   ]
  },
  {
   "cell_type": "code",
   "execution_count": 2,
   "id": "869a10bc",
   "metadata": {},
   "outputs": [
    {
     "name": "stdout",
     "output_type": "stream",
     "text": [
      "Requirement already satisfied: selenium in /Users/katmarcin/opt/anaconda3/envs/PythonData/lib/python3.7/site-packages (4.1.0)\n",
      "Requirement already satisfied: trio~=0.17 in /Users/katmarcin/opt/anaconda3/envs/PythonData/lib/python3.7/site-packages (from selenium) (0.19.0)\n",
      "Requirement already satisfied: trio-websocket~=0.9 in /Users/katmarcin/opt/anaconda3/envs/PythonData/lib/python3.7/site-packages (from selenium) (0.9.2)\n",
      "Requirement already satisfied: urllib3[secure]~=1.26 in /Users/katmarcin/opt/anaconda3/envs/PythonData/lib/python3.7/site-packages (from selenium) (1.26.7)\n",
      "Requirement already satisfied: idna in /Users/katmarcin/opt/anaconda3/envs/PythonData/lib/python3.7/site-packages (from trio~=0.17->selenium) (3.3)\n",
      "Requirement already satisfied: async-generator>=1.9 in /Users/katmarcin/opt/anaconda3/envs/PythonData/lib/python3.7/site-packages (from trio~=0.17->selenium) (1.10)\n",
      "Requirement already satisfied: outcome in /Users/katmarcin/opt/anaconda3/envs/PythonData/lib/python3.7/site-packages (from trio~=0.17->selenium) (1.1.0)\n",
      "Requirement already satisfied: sortedcontainers in /Users/katmarcin/opt/anaconda3/envs/PythonData/lib/python3.7/site-packages (from trio~=0.17->selenium) (2.4.0)\n",
      "Requirement already satisfied: sniffio in /Users/katmarcin/opt/anaconda3/envs/PythonData/lib/python3.7/site-packages (from trio~=0.17->selenium) (1.2.0)\n",
      "Requirement already satisfied: attrs>=19.2.0 in /Users/katmarcin/opt/anaconda3/envs/PythonData/lib/python3.7/site-packages (from trio~=0.17->selenium) (21.4.0)\n",
      "Requirement already satisfied: wsproto>=0.14 in /Users/katmarcin/opt/anaconda3/envs/PythonData/lib/python3.7/site-packages (from trio-websocket~=0.9->selenium) (1.0.0)\n",
      "Requirement already satisfied: pyOpenSSL>=0.14 in /Users/katmarcin/opt/anaconda3/envs/PythonData/lib/python3.7/site-packages (from urllib3[secure]~=1.26->selenium) (21.0.0)\n",
      "Requirement already satisfied: cryptography>=1.3.4 in /Users/katmarcin/opt/anaconda3/envs/PythonData/lib/python3.7/site-packages (from urllib3[secure]~=1.26->selenium) (36.0.0)\n",
      "Requirement already satisfied: certifi in /Users/katmarcin/opt/anaconda3/envs/PythonData/lib/python3.7/site-packages (from urllib3[secure]~=1.26->selenium) (2021.10.8)\n",
      "Requirement already satisfied: cffi>=1.12 in /Users/katmarcin/opt/anaconda3/envs/PythonData/lib/python3.7/site-packages (from cryptography>=1.3.4->urllib3[secure]~=1.26->selenium) (1.14.6)\n",
      "Requirement already satisfied: pycparser in /Users/katmarcin/opt/anaconda3/envs/PythonData/lib/python3.7/site-packages (from cffi>=1.12->cryptography>=1.3.4->urllib3[secure]~=1.26->selenium) (2.21)\n",
      "Requirement already satisfied: six>=1.5.2 in /Users/katmarcin/opt/anaconda3/envs/PythonData/lib/python3.7/site-packages (from pyOpenSSL>=0.14->urllib3[secure]~=1.26->selenium) (1.16.0)\n",
      "Requirement already satisfied: h11<1,>=0.9.0 in /Users/katmarcin/opt/anaconda3/envs/PythonData/lib/python3.7/site-packages (from wsproto>=0.14->trio-websocket~=0.9->selenium) (0.13.0)\n",
      "Requirement already satisfied: typing-extensions in /Users/katmarcin/opt/anaconda3/envs/PythonData/lib/python3.7/site-packages (from h11<1,>=0.9.0->wsproto>=0.14->trio-websocket~=0.9->selenium) (3.10.0.2)\n"
     ]
    }
   ],
   "source": [
    "!pip install selenium"
   ]
  },
  {
   "cell_type": "code",
   "execution_count": 3,
   "id": "995e8195",
   "metadata": {},
   "outputs": [],
   "source": [
    "from splinter import Browser\n",
    "from bs4 import BeautifulSoup as soup\n",
    "from webdriver_manager.chrome import ChromeDriverManager"
   ]
  },
  {
   "cell_type": "code",
   "execution_count": 4,
   "id": "5a97e5a5",
   "metadata": {},
   "outputs": [
    {
     "name": "stderr",
     "output_type": "stream",
     "text": [
      "\n",
      "\n",
      "====== WebDriver manager ======\n",
      "Current google-chrome version is 98.0.4758\n",
      "Get LATEST chromedriver version for 98.0.4758 google-chrome\n",
      "There is no [mac64] chromedriver for browser  in cache\n",
      "Trying to download new driver from https://chromedriver.storage.googleapis.com/98.0.4758.102/chromedriver_mac64.zip\n",
      "Driver has been saved in cache [/Users/katmarcin/.wdm/drivers/chromedriver/mac64/98.0.4758.102]\n"
     ]
    }
   ],
   "source": [
    "# Set up Splinter\n",
    "executable_path = {'executable_path': ChromeDriverManager().install()}\n",
    "browser = Browser('chrome', **executable_path, headless=False)"
   ]
  },
  {
   "cell_type": "code",
   "execution_count": null,
   "id": "6289e3c1",
   "metadata": {},
   "outputs": [],
   "source": []
  }
 ],
 "metadata": {
  "kernelspec": {
   "display_name": "PythonData",
   "language": "python",
   "name": "pythondata"
  },
  "language_info": {
   "codemirror_mode": {
    "name": "ipython",
    "version": 3
   },
   "file_extension": ".py",
   "mimetype": "text/x-python",
   "name": "python",
   "nbconvert_exporter": "python",
   "pygments_lexer": "ipython3",
   "version": "3.9.7"
  }
 },
 "nbformat": 4,
 "nbformat_minor": 5
}
